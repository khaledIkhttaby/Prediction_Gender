{
 "cells": [
  {
   "cell_type": "code",
   "execution_count": 17,
   "metadata": {},
   "outputs": [],
   "source": [
    "import pandas as pd\n",
    "import numpy as np\n",
    "import matplotlib.pyplot as plt\n",
    "import tensorflow as tf \n",
    "from sklearn.model_selection import train_test_split\n",
    "from tensorflow.keras.preprocessing.text import Tokenizer\n",
    "from tensorflow.keras.preprocessing.sequence import pad_sequences\n",
    "from tensorflow.keras.models import Sequential,load_model\n",
    "from tensorflow.keras import layers\n",
    "import nltk\n",
    "from sklearn.feature_extraction.text import CountVectorizer\n",
    "from sklearn.model_selection import train_test_split\n",
    "from sklearn.linear_model import LogisticRegression,ridge_regression\n"
   ]
  },
  {
   "cell_type": "code",
   "execution_count": 18,
   "metadata": {},
   "outputs": [],
   "source": [
    "def split(word): \n",
    "    return \" \".join([char for char in word])"
   ]
  },
  {
   "cell_type": "code",
   "execution_count": 140,
   "metadata": {},
   "outputs": [],
   "source": [
    "df=pd.read_csv(\"data 2.csv\",names=[\"label\",\"sentence\"])\n",
    "df=df.dropna()"
   ]
  },
  {
   "cell_type": "code",
   "execution_count": 141,
   "metadata": {},
   "outputs": [
    {
     "data": {
      "text/plain": [
       "array(['soso', 'alfat', 'assma', ..., 'layan', 'hilin', 'aboalrood'],\n",
       "      dtype=object)"
      ]
     },
     "execution_count": 141,
     "metadata": {},
     "output_type": "execute_result"
    }
   ],
   "source": [
    "\n",
    ">>> sentences = df['sentence'].values\n",
    ">>> y = df['label'].values\n",
    "sentences"
   ]
  },
  {
   "cell_type": "code",
   "execution_count": 142,
   "metadata": {},
   "outputs": [],
   "source": [
    ">>> sentences_train, sentences_test, y_train, y_test = train_test_split(\n",
    "...    sentences, y, test_size=0.25, random_state=400)"
   ]
  },
  {
   "cell_type": "code",
   "execution_count": 143,
   "metadata": {},
   "outputs": [
    {
     "data": {
      "text/plain": [
       "array(['husyin', 'waten', 'mikhaiel', ..., 'memo', 'mram', 'sese'],\n",
       "      dtype=object)"
      ]
     },
     "execution_count": 143,
     "metadata": {},
     "output_type": "execute_result"
    }
   ],
   "source": [
    "sentences_test"
   ]
  },
  {
   "cell_type": "code",
   "execution_count": 147,
   "metadata": {},
   "outputs": [],
   "source": [
    "from sklearn.preprocessing import LabelEncoder\n",
    "from sklearn.preprocessing import OneHotEncoder"
   ]
  },
  {
   "cell_type": "code",
   "execution_count": 148,
   "metadata": {},
   "outputs": [
    {
     "data": {
      "text/plain": [
       "array(['__label__Both', '__label__Famele', '__label__Male',\n",
       "       '__label__None'], dtype=object)"
      ]
     },
     "execution_count": 148,
     "metadata": {},
     "output_type": "execute_result"
    }
   ],
   "source": [
    "encoder = LabelEncoder()\n",
    "encoder.fit(y_train)\n",
    "encoder.classes_"
   ]
  },
  {
   "cell_type": "code",
   "execution_count": null,
   "metadata": {},
   "outputs": [],
   "source": []
  },
  {
   "cell_type": "code",
   "execution_count": 149,
   "metadata": {},
   "outputs": [
    {
     "data": {
      "text/plain": [
       "array([1, 2, 1, ..., 2, 1, 3])"
      ]
     },
     "execution_count": 149,
     "metadata": {},
     "output_type": "execute_result"
    }
   ],
   "source": [
    "y=encoder.transform(y_train)\n",
    "y"
   ]
  },
  {
   "cell_type": "code",
   "execution_count": 150,
   "metadata": {},
   "outputs": [],
   "source": [
    "\n",
    "def convert_one_hot(ytrain):\n",
    "    encoder = LabelEncoder()\n",
    "    y_train_nn = encoder.fit_transform(ytrain)\n",
    "    y_train_nn\n",
    "    encoder = OneHotEncoder(sparse=False)\n",
    "    y_train_nn = y_train_nn.reshape(len(y_train_nn), 1)\n",
    "    y_train_nn=encoder.fit_transform(y_train_nn)\n",
    "    return y_train_nn\n",
    "y_train_nn=convert_one_hot(y_train)\n",
    "y_test_nn=convert_one_hot(y_test)"
   ]
  },
  {
   "cell_type": "code",
   "execution_count": 110,
   "metadata": {},
   "outputs": [],
   "source": [
    "maxlen=7\n",
    "tokenizer = Tokenizer(num_words=127,char_level=1)\n",
    "tokenizer.fit_on_texts(sentences_train)"
   ]
  },
  {
   "cell_type": "code",
   "execution_count": 151,
   "metadata": {},
   "outputs": [],
   "source": [
    "\n",
    "X_train = tokenizer.texts_to_sequences(sentences_train)\n",
    "X_test = tokenizer.texts_to_sequences(sentences_test)\n",
    "\n",
    "    # Adding 1 because of reserved 0 index\n",
    "vocab_size = len(tokenizer.word_index) + 1\n",
    "\n",
    "    # Pad sequences with zeros\n",
    "X_train = pad_sequences(X_train, padding='post', maxlen=maxlen)\n",
    "X_test = pad_sequences(X_test, padding='post', maxlen=maxlen)\n"
   ]
  },
  {
   "cell_type": "code",
   "execution_count": 152,
   "metadata": {},
   "outputs": [
    {
     "data": {
      "text/plain": [
       "127"
      ]
     },
     "execution_count": 152,
     "metadata": {},
     "output_type": "execute_result"
    }
   ],
   "source": [
    "import numpy as np\n",
    "\n",
    "def create_embedding_matrix(vocab, word_index, embedding_dim):\n",
    "    vocab_size = len(word_index) + 1  # Adding again 1 because of reserved 0 index\n",
    "    embedding_matrix = np.zeros((vocab_size, embedding_dim))\n",
    "    for voc in vocab:\n",
    "#         if voc in word_index:\n",
    "        embedding_matrix[word_index[voc]]= np.array(\n",
    "                    model_ft.get_word_vector(voc), dtype=np.float32)[:embedding_dim]\n",
    "            \n",
    "#     with open(filepath) as f:\n",
    "#         for line in f:\n",
    "#             word, *vector = line.split()\n",
    "#             if word in word_index:\n",
    "#                 idx = word_index[word] \n",
    "#                 embedding_matrix[idx] = np.array(\n",
    "#                     vector, dtype=np.float32)[:embedding_dim]\n",
    "\n",
    "    return embedding_matrix\n",
    "len(model_ft.words)"
   ]
  },
  {
   "cell_type": "code",
   "execution_count": 113,
   "metadata": {},
   "outputs": [
    {
     "data": {
      "text/plain": [
       "218"
      ]
     },
     "execution_count": 113,
     "metadata": {},
     "output_type": "execute_result"
    }
   ],
   "source": [
    "vocab=[]\n",
    "for k,v in tokenizer.word_index.items():\n",
    "    vocab.append(k)\n",
    "len(vocab)"
   ]
  },
  {
   "cell_type": "code",
   "execution_count": 114,
   "metadata": {},
   "outputs": [],
   "source": [
    ">>> embedding_dim = 300\n",
    ">>> embedding_matrix = create_embedding_matrix(vocab,tokenizer.word_index, embedding_dim)"
   ]
  },
  {
   "cell_type": "code",
   "execution_count": 136,
   "metadata": {},
   "outputs": [
    {
     "name": "stdout",
     "output_type": "stream",
     "text": [
      "Model: \"sequential_9\"\n",
      "_________________________________________________________________\n",
      "Layer (type)                 Output Shape              Param #   \n",
      "=================================================================\n",
      "embedding_9 (Embedding)      (None, 7, 300)            65700     \n",
      "_________________________________________________________________\n",
      "lstm_8 (LSTM)                (None, 7, 128)            219648    \n",
      "_________________________________________________________________\n",
      "dropout_4 (Dropout)          (None, 7, 128)            0         \n",
      "_________________________________________________________________\n",
      "conv1d_6 (Conv1D)            (None, 7, 64)             8256      \n",
      "_________________________________________________________________\n",
      "global_max_pooling1d_7 (Glob (None, 64)                0         \n",
      "_________________________________________________________________\n",
      "dense_14 (Dense)             (None, 10)                650       \n",
      "_________________________________________________________________\n",
      "dense_15 (Dense)             (None, 4)                 44        \n",
      "=================================================================\n",
      "Total params: 294,298\n",
      "Trainable params: 294,298\n",
      "Non-trainable params: 0\n",
      "_________________________________________________________________\n"
     ]
    }
   ],
   "source": [
    "embedding_dim = 300\n",
    "\n",
    "model = Sequential()\n",
    "model.add(layers.Embedding(vocab_size, embedding_dim, input_length=maxlen,weights=[embedding_matrix]))\n",
    "model.add(layers.LSTM(units=128,return_sequences=True))\n",
    "model.add(layers.Dropout(0.1))\n",
    "model.add(layers.Conv1D(64, 1, activation='relu'))\n",
    "# model.add(layers.LSTM(units=128,return_sequences=True))\n",
    "model.add(layers.GlobalMaxPooling1D())\n",
    "model.add(layers.Dense(10, activation='relu'))\n",
    "model.add(layers.Dense(4, activation='softmax'))\n",
    "model.compile(optimizer='adam',loss='categorical_crossentropy',metrics=['accuracy'])\n",
    "model.summary()"
   ]
  },
  {
   "cell_type": "code",
   "execution_count": 137,
   "metadata": {},
   "outputs": [
    {
     "name": "stdout",
     "output_type": "stream",
     "text": [
      "Epoch 1/25\n",
      "180/180 [==============================] - 10s 30ms/step - loss: 1.0285 - accuracy: 0.4788 - val_loss: 0.7838 - val_accuracy: 0.6639\n",
      "Epoch 2/25\n",
      "180/180 [==============================] - 5s 25ms/step - loss: 0.7596 - accuracy: 0.6855 - val_loss: 0.7726 - val_accuracy: 0.6820\n",
      "Epoch 3/25\n",
      "180/180 [==============================] - 5s 26ms/step - loss: 0.7217 - accuracy: 0.6862 - val_loss: 0.7614 - val_accuracy: 0.6848\n",
      "Epoch 4/25\n",
      "180/180 [==============================] - 4s 24ms/step - loss: 0.7064 - accuracy: 0.7038 - val_loss: 0.7323 - val_accuracy: 0.7133\n",
      "Epoch 5/25\n",
      "180/180 [==============================] - 4s 25ms/step - loss: 0.6820 - accuracy: 0.7242 - val_loss: 0.7966 - val_accuracy: 0.6534\n",
      "Epoch 6/25\n",
      "180/180 [==============================] - 4s 25ms/step - loss: 0.6874 - accuracy: 0.7196 - val_loss: 0.7231 - val_accuracy: 0.7042\n",
      "Epoch 7/25\n",
      "180/180 [==============================] - 4s 24ms/step - loss: 0.6536 - accuracy: 0.7316 - val_loss: 0.7209 - val_accuracy: 0.7029\n",
      "Epoch 8/25\n",
      "180/180 [==============================] - 4s 25ms/step - loss: 0.6352 - accuracy: 0.7475 - val_loss: 0.7166 - val_accuracy: 0.7008\n",
      "Epoch 9/25\n",
      "180/180 [==============================] - 4s 24ms/step - loss: 0.6222 - accuracy: 0.7441 - val_loss: 0.7028 - val_accuracy: 0.7168\n",
      "Epoch 10/25\n",
      "180/180 [==============================] - 4s 24ms/step - loss: 0.6132 - accuracy: 0.7547 - val_loss: 0.7086 - val_accuracy: 0.7098\n",
      "Epoch 11/25\n",
      "180/180 [==============================] - 4s 25ms/step - loss: 0.5815 - accuracy: 0.7767 - val_loss: 0.7004 - val_accuracy: 0.7126\n",
      "Epoch 12/25\n",
      "180/180 [==============================] - 4s 25ms/step - loss: 0.5657 - accuracy: 0.7725 - val_loss: 0.6812 - val_accuracy: 0.7314\n",
      "Epoch 13/25\n",
      "180/180 [==============================] - 4s 24ms/step - loss: 0.5352 - accuracy: 0.7916 - val_loss: 0.6660 - val_accuracy: 0.7349\n",
      "Epoch 14/25\n",
      "180/180 [==============================] - 5s 25ms/step - loss: 0.4905 - accuracy: 0.8078 - val_loss: 0.6775 - val_accuracy: 0.7237\n",
      "Epoch 15/25\n",
      "180/180 [==============================] - 5s 26ms/step - loss: 0.4856 - accuracy: 0.8196 - val_loss: 0.6748 - val_accuracy: 0.7376\n",
      "Epoch 16/25\n",
      "180/180 [==============================] - 5s 26ms/step - loss: 0.4490 - accuracy: 0.8281 - val_loss: 0.6536 - val_accuracy: 0.7578\n",
      "Epoch 17/25\n",
      "180/180 [==============================] - 4s 24ms/step - loss: 0.4061 - accuracy: 0.8458 - val_loss: 0.6916 - val_accuracy: 0.7530\n",
      "Epoch 18/25\n",
      "180/180 [==============================] - 4s 25ms/step - loss: 0.3794 - accuracy: 0.8565 - val_loss: 0.6747 - val_accuracy: 0.7613\n",
      "Epoch 19/25\n",
      "180/180 [==============================] - 5s 25ms/step - loss: 0.3425 - accuracy: 0.8732 - val_loss: 0.7295 - val_accuracy: 0.7523\n",
      "Epoch 20/25\n",
      "180/180 [==============================] - 5s 25ms/step - loss: 0.3062 - accuracy: 0.8872 - val_loss: 0.7004 - val_accuracy: 0.7627\n",
      "Epoch 21/25\n",
      "180/180 [==============================] - 4s 25ms/step - loss: 0.2661 - accuracy: 0.9076 - val_loss: 0.7404 - val_accuracy: 0.7648\n",
      "Epoch 22/25\n",
      "180/180 [==============================] - 5s 25ms/step - loss: 0.2365 - accuracy: 0.9124 - val_loss: 0.7430 - val_accuracy: 0.7808\n",
      "Epoch 23/25\n",
      "180/180 [==============================] - 5s 26ms/step - loss: 0.2097 - accuracy: 0.9252 - val_loss: 0.7597 - val_accuracy: 0.7829\n",
      "Epoch 24/25\n",
      "180/180 [==============================] - 4s 25ms/step - loss: 0.1905 - accuracy: 0.9329 - val_loss: 0.8038 - val_accuracy: 0.7724\n",
      "Epoch 25/25\n",
      "180/180 [==============================] - 4s 25ms/step - loss: 0.1772 - accuracy: 0.9398 - val_loss: 0.7964 - val_accuracy: 0.7787\n"
     ]
    }
   ],
   "source": [
    "history=model.fit(X_train,y_train_nn,epochs=25,validation_split=0.2)"
   ]
  },
  {
   "cell_type": "code",
   "execution_count": 154,
   "metadata": {},
   "outputs": [
    {
     "name": "stdout",
     "output_type": "stream",
     "text": [
      "225/225 [==============================] - 2s 8ms/step - loss: 0.3892 - accuracy: 0.8892\n"
     ]
    },
    {
     "data": {
      "text/plain": [
       "[0.3892289400100708, 0.8891828060150146]"
      ]
     },
     "execution_count": 154,
     "metadata": {},
     "output_type": "execute_result"
    }
   ],
   "source": [
    "model.evaluate(X_train,y_train_nn)"
   ]
  },
  {
   "cell_type": "code",
   "execution_count": null,
   "metadata": {},
   "outputs": [],
   "source": []
  },
  {
   "cell_type": "code",
   "execution_count": 139,
   "metadata": {},
   "outputs": [],
   "source": [
    "model.save(\"best_model_with_accuercy_78.h5\")"
   ]
  },
  {
   "cell_type": "code",
   "execution_count": 270,
   "metadata": {},
   "outputs": [],
   "source": [
    "plt.style.use('ggplot')\n",
    "\n",
    "def plot_history(history):\n",
    "    acc = history.history['accuracy']\n",
    "    val_acc = history.history['accuracy']\n",
    "    loss = history.history['loss']\n",
    "    val_loss = history.history['val_loss']\n",
    "    x = range(1, len(acc) + 1)\n",
    "\n",
    "    plt.figure(figsize=(12, 5))\n",
    "    plt.subplot(1, 2, 1)\n",
    "    plt.plot(x, acc, 'b', label='Training acc')\n",
    "    plt.plot(x, val_acc, 'r', label='Validation acc')\n",
    "    plt.title('Training and validation accuracy')\n",
    "    plt.legend()\n",
    "    plt.subplot(1, 2, 2)\n",
    "    plt.plot(x, loss, 'b', label='Training loss')\n",
    "    plt.plot(x, val_loss, 'r', label='Validation loss')\n",
    "    plt.title('Training and validation loss')\n",
    "    plt.legend()"
   ]
  },
  {
   "cell_type": "code",
   "execution_count": 271,
   "metadata": {},
   "outputs": [
    {
     "data": {
      "image/png": "[encoded data removed]",
      "text/plain": [
       "<Figure size 864x360 with 2 Axes>"
      ]
     },
     "metadata": {},
     "output_type": "display_data"
    }
   ],
   "source": [
    "plot_history(histor)"
   ]
  },
  {
   "cell_type": "code",
   "execution_count": 198,
   "metadata": {},
   "outputs": [],
   "source": [
    "model=load_model(\"best_model.h5\")"
   ]
  },
  {
   "cell_type": "code",
   "execution_count": null,
   "metadata": {},
   "outputs": [],
   "source": []
  },
  {
   "cell_type": "code",
   "execution_count": 200,
   "metadata": {},
   "outputs": [
    {
     "name": "stdout",
     "output_type": "stream",
     "text": [
      "225/225 [==============================] - 1s 3ms/step - loss: 1.3324 - accuracy: 0.6138\n"
     ]
    },
    {
     "data": {
      "text/plain": [
       "[1.3324494361877441, 0.6138103604316711]"
      ]
     },
     "execution_count": 200,
     "metadata": {},
     "output_type": "execute_result"
    }
   ],
   "source": [
    "model.evaluate(X_train,y_train_nn)"
   ]
  },
  {
   "cell_type": "code",
   "execution_count": 164,
   "metadata": {},
   "outputs": [
    {
     "name": "stdout",
     "output_type": "stream",
     "text": [
      "0.44592901878914404 0.4780793319415449 0.055532359081419624 0.02045929018789144\n"
     ]
    }
   ],
   "source": [
    "m=0\n",
    "f=0\n",
    "b=0\n",
    "n=0\n",
    "\n",
    "\n",
    "for i in y_test:\n",
    "    if i ==\"__label__Male\":\n",
    "        m+=1\n",
    "    elif i ==\"__label__Famele\":\n",
    "        f+=1\n",
    "    elif i==\"__label__Both\":\n",
    "        b+=1\n",
    "    else:\n",
    "        n+=1\n",
    "summ=m+n+f+b\n",
    "print(m/summ,f/summ,b/summ,n/summ)"
   ]
  },
  {
   "cell_type": "code",
   "execution_count": null,
   "metadata": {},
   "outputs": [],
   "source": []
  },
  {
   "cell_type": "code",
   "execution_count": null,
   "metadata": {},
   "outputs": [],
   "source": []
  },
  {
   "cell_type": "code",
   "execution_count": 3,
   "metadata": {},
   "outputs": [],
   "source": [
    "df=pd.read_csv(\"data 2.csv\",names=[\"label\",\"sentence\"])"
   ]
  },
  {
   "cell_type": "code",
   "execution_count": 9,
   "metadata": {},
   "outputs": [],
   "source": [
    "sentenc=df['sentence'].apply(split)"
   ]
  },
  {
   "cell_type": "code",
   "execution_count": 11,
   "metadata": {},
   "outputs": [],
   "source": [
    "sentenc.to_csv(\"names.csv\",index=0)"
   ]
  },
  {
   "cell_type": "code",
   "execution_count": 12,
   "metadata": {},
   "outputs": [],
   "source": [
    "import fasttext as ft\n"
   ]
  },
  {
   "cell_type": "code",
   "execution_count": 14,
   "metadata": {},
   "outputs": [],
   "source": [
    "model_ft=ft.train_unsupervised(\"names.csv\",minn=1,maxn=1,dim=300)"
   ]
  },
  {
   "cell_type": "code",
   "execution_count": 16,
   "metadata": {},
   "outputs": [
    {
     "data": {
      "text/plain": [
       "127"
      ]
     },
     "execution_count": 16,
     "metadata": {},
     "output_type": "execute_result"
    }
   ],
   "source": [
    "model_ft.words"
   ]
  },
  {
   "cell_type": "code",
   "execution_count": 156,
   "metadata": {},
   "outputs": [],
   "source": [
    "import pickle\n",
    "with open('encoder.pickle', 'wb') as handle:\n",
    "        pickle.dump(encoder, handle, protocol=pickle.HIGHEST_PROTOCOL)"
   ]
  },
  {
   "cell_type": "code",
   "execution_count": null,
   "metadata": {},
   "outputs": [],
   "source": []
  }
 ],
 "metadata": {
  "kernelspec": {
   "display_name": "Python 3",
   "language": "python",
   "name": "python3"
  },
  "language_info": {
   "codemirror_mode": {
    "name": "ipython",
    "version": 3
   },
   "file_extension": ".py",
   "mimetype": "text/x-python",
   "name": "python",
   "nbconvert_exporter": "python",
   "pygments_lexer": "ipython3",
   "version": "3.7.7"
  }
 },
 "nbformat": 4,
 "nbformat_minor": 4
}